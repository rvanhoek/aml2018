{
 "cells": [
  {
   "cell_type": "markdown",
   "metadata": {},
   "source": [
    "### Quora Question Pairs \n",
    "\n",
    "Can you identify question pairs that have the same intent?\n"
   ]
  },
  {
   "cell_type": "markdown",
   "metadata": {},
   "source": [
    "###### Import libraries"
   ]
  },
  {
   "cell_type": "code",
   "execution_count": 27,
   "metadata": {},
   "outputs": [],
   "source": [
    "import pandas as pd\n",
    "import numpy as np\n",
    "import nltk\n",
    "from nltk.stem import PorterStemmer\n",
    "from nltk.stem import LancasterStemmer\n",
    "from nltk.tokenize import sent_tokenize, word_tokenize\n",
    "from nltk.stem import WordNetLemmatizer"
   ]
  },
  {
   "cell_type": "code",
   "execution_count": 34,
   "metadata": {
    "collapsed": true
   },
   "outputs": [
    {
     "name": "stdout",
     "output_type": "stream",
     "text": [
      "[nltk_data] Downloading package wordnet to\n",
      "[nltk_data]     C:\\Users\\Renée\\AppData\\Roaming\\nltk_data...\n",
      "[nltk_data]   Unzipping corpora\\wordnet.zip.\n"
     ]
    }
   ],
   "source": [
    "# Eenmalig downloaden\n",
    "\n",
    "#nltk.download('punkt')\n",
    "#nltk.download('wordnet')\n",
    "\n",
    "# Voorkomen onterechte warnings\n",
    "pd.options.mode.chained_assignment = None"
   ]
  },
  {
   "cell_type": "markdown",
   "metadata": {},
   "source": [
    "###### Stemming"
   ]
  },
  {
   "cell_type": "code",
   "execution_count": 2,
   "metadata": {},
   "outputs": [],
   "source": [
    "# Porter of Lancaster stemmers - tweede is 'aggressiever' dan de eerste.\n",
    "porter = PorterStemmer()\n",
    "lancaster=LancasterStemmer()"
   ]
  },
  {
   "cell_type": "code",
   "execution_count": 23,
   "metadata": {},
   "outputs": [],
   "source": [
    "# Functie voor stemming (met Porter)\n",
    "\n",
    "def stemSentence(sentence):\n",
    "   \n",
    "    # tokenize\n",
    "    token_words=word_tokenize(sentence)\n",
    "    \n",
    "    # stemming\n",
    "    stem_sentence=[]\n",
    "    for word in token_words:\n",
    "        stem_sentence.append(porter.stem(word))\n",
    "        stem_sentence.append(\" \")\n",
    "    return \"\".join(stem_sentence)"
   ]
  },
  {
   "cell_type": "markdown",
   "metadata": {},
   "source": [
    "###### Lemmatization"
   ]
  },
  {
   "cell_type": "code",
   "execution_count": 58,
   "metadata": {},
   "outputs": [],
   "source": [
    "# Functie voor lemmatizing\n",
    "\"\"\"\n",
    "\"Lemmatization, unlike Stemming, reduces the inflected words properly ensuring that the root word belongs to the language.\"\n",
    "Lemmatization is waarschijnlijk beter dan stemming in ons project omdat de betekenis van de woorden erg belangrijk is \n",
    "\"\"\"\n",
    "\n",
    "def lemSentence(sentence):\n",
    "    \n",
    "    # tokenize\n",
    "    token_words=word_tokenize(sentence)\n",
    "    \n",
    "    # lemmatize\n",
    "    lem_sentence=[]\n",
    "    for word in token_words:   \n",
    "        lem_sentence.append(wordnet_lemmatizer.lemmatize(word, pos=\"v\"))\n",
    "        lem_sentence.append(\" \")\n",
    "    \n",
    "    return \"\".join(lem_sentence)"
   ]
  },
  {
   "cell_type": "markdown",
   "metadata": {},
   "source": [
    "###### Testen van functies"
   ]
  },
  {
   "cell_type": "code",
   "execution_count": 61,
   "metadata": {
    "collapsed": true
   },
   "outputs": [
    {
     "name": "stdout",
     "output_type": "stream",
     "text": [
      "   id  qid1  qid2                                          question1  \\\n",
      "0   0     1     2  What is the step by step guide to invest in sh...   \n",
      "1   1     3     4  What is the story of Kohinoor (Koh-i-Noor) Dia...   \n",
      "2   2     5     6  How can I increase the speed of my internet co...   \n",
      "3   3     7     8  Why am I mentally very lonely? How can I solve...   \n",
      "4   4     9    10  Which one dissolve in water quikly sugar, salt...   \n",
      "5   5    11    12  Astrology: I am a Capricorn Sun Cap moon and c...   \n",
      "6   6    13    14                                Should I buy tiago?   \n",
      "7   7    15    16                     How can I be a good geologist?   \n",
      "8   8    17    18                    When do you use シ instead of し?   \n",
      "9   9    19    20  Motorola (company): Can I hack my Charter Moto...   \n",
      "\n",
      "                                           question2  is_duplicate  \n",
      "0  What is the step by step guide to invest in sh...             0  \n",
      "1  What would happen if the Indian government sto...             0  \n",
      "2  How can Internet speed be increased by hacking...             0  \n",
      "3  Find the remainder when [math]23^{24}[/math] i...             0  \n",
      "4            Which fish would survive in salt water?             0  \n",
      "5  I'm a triple Capricorn (Sun, Moon and ascendan...             1  \n",
      "6  What keeps childern active and far from phone ...             0  \n",
      "7          What should I do to be a great geologist?             1  \n",
      "8              When do you use \"&\" instead of \"and\"?             0  \n",
      "9  How do I hack Motorola DCX3400 for free internet?             0  \n"
     ]
    }
   ],
   "source": [
    "# Train data inladen en tijdelijk eerste paar regels om functies te checken\n",
    "\n",
    "train_data = pd.read_csv('train_data.csv')\n",
    "train_data_head=train_data[:10]\n",
    "\n",
    "print(train_data_head)"
   ]
  },
  {
   "cell_type": "code",
   "execution_count": 62,
   "metadata": {
    "collapsed": true
   },
   "outputs": [
    {
     "name": "stdout",
     "output_type": "stream",
     "text": [
      "   id  qid1  qid2                                          question1  \\\n",
      "0   0     1     2  What is the step by step guide to invest in sh...   \n",
      "1   1     3     4  What is the story of Kohinoor (Koh-i-Noor) Dia...   \n",
      "2   2     5     6  How can I increase the speed of my internet co...   \n",
      "3   3     7     8  Why am I mentally very lonely? How can I solve...   \n",
      "4   4     9    10  Which one dissolve in water quikly sugar, salt...   \n",
      "5   5    11    12  Astrology: I am a Capricorn Sun Cap moon and c...   \n",
      "6   6    13    14                                Should I buy tiago?   \n",
      "7   7    15    16                     How can I be a good geologist?   \n",
      "8   8    17    18                    When do you use シ instead of し?   \n",
      "9   9    19    20  Motorola (company): Can I hack my Charter Moto...   \n",
      "\n",
      "                                           question2  is_duplicate  \\\n",
      "0  What is the step by step guide to invest in sh...             0   \n",
      "1  What would happen if the Indian government sto...             0   \n",
      "2  How can Internet speed be increased by hacking...             0   \n",
      "3  Find the remainder when [math]23^{24}[/math] i...             0   \n",
      "4            Which fish would survive in salt water?             0   \n",
      "5  I'm a triple Capricorn (Sun, Moon and ascendan...             1   \n",
      "6  What keeps childern active and far from phone ...             0   \n",
      "7          What should I do to be a great geologist?             1   \n",
      "8              When do you use \"&\" instead of \"and\"?             0   \n",
      "9  How do I hack Motorola DCX3400 for free internet?             0   \n",
      "\n",
      "                                      question1_stem  \\\n",
      "0  what is the step by step guid to invest in sha...   \n",
      "1  what is the stori of kohinoor ( koh-i-noor ) d...   \n",
      "2  how can I increas the speed of my internet con...   \n",
      "3   whi am I mental veri lone ? how can I solv it ?    \n",
      "4  which one dissolv in water quikli sugar , salt...   \n",
      "5  astrolog : I am a capricorn sun cap moon and c...   \n",
      "6                              should I buy tiago ?    \n",
      "7                   how can I be a good geologist ?    \n",
      "8                  when do you use シ instead of し ?    \n",
      "9  motorola ( compani ) : can I hack my charter m...   \n",
      "\n",
      "                                      question2_stem  \n",
      "0  what is the step by step guid to invest in sha...  \n",
      "1  what would happen if the indian govern stole t...  \n",
      "2  how can internet speed be increas by hack thro...  \n",
      "3  find the remaind when [ math ] 23^ { 24 } [ /m...  \n",
      "4           which fish would surviv in salt water ?   \n",
      "5  I 'm a tripl capricorn ( sun , moon and ascend...  \n",
      "6  what keep childern activ and far from phone an...  \n",
      "7        what should I do to be a great geologist ?   \n",
      "8    when do you use `` & '' instead of `` and '' ?   \n",
      "9  how do I hack motorola dcx3400 for free intern...  \n"
     ]
    }
   ],
   "source": [
    "# Toepassen van stemming functie op Train data\n",
    "\n",
    "train_data_head['question1_stem'] = train_data_head['question1'].apply(stemSentence)\n",
    "train_data_head['question2_stem'] = train_data_head['question2'].apply(stemSentence)\n",
    "\n",
    "print(train_data_head)"
   ]
  },
  {
   "cell_type": "code",
   "execution_count": 63,
   "metadata": {
    "collapsed": true
   },
   "outputs": [
    {
     "name": "stdout",
     "output_type": "stream",
     "text": [
      "   id  qid1  qid2                                          question1  \\\n",
      "0   0     1     2  What is the step by step guide to invest in sh...   \n",
      "1   1     3     4  What is the story of Kohinoor (Koh-i-Noor) Dia...   \n",
      "2   2     5     6  How can I increase the speed of my internet co...   \n",
      "3   3     7     8  Why am I mentally very lonely? How can I solve...   \n",
      "4   4     9    10  Which one dissolve in water quikly sugar, salt...   \n",
      "5   5    11    12  Astrology: I am a Capricorn Sun Cap moon and c...   \n",
      "6   6    13    14                                Should I buy tiago?   \n",
      "7   7    15    16                     How can I be a good geologist?   \n",
      "8   8    17    18                    When do you use シ instead of し?   \n",
      "9   9    19    20  Motorola (company): Can I hack my Charter Moto...   \n",
      "\n",
      "                                           question2  is_duplicate  \\\n",
      "0  What is the step by step guide to invest in sh...             0   \n",
      "1  What would happen if the Indian government sto...             0   \n",
      "2  How can Internet speed be increased by hacking...             0   \n",
      "3  Find the remainder when [math]23^{24}[/math] i...             0   \n",
      "4            Which fish would survive in salt water?             0   \n",
      "5  I'm a triple Capricorn (Sun, Moon and ascendan...             1   \n",
      "6  What keeps childern active and far from phone ...             0   \n",
      "7          What should I do to be a great geologist?             1   \n",
      "8              When do you use \"&\" instead of \"and\"?             0   \n",
      "9  How do I hack Motorola DCX3400 for free internet?             0   \n",
      "\n",
      "                                      question1_stem  \\\n",
      "0  what is the step by step guid to invest in sha...   \n",
      "1  what is the stori of kohinoor ( koh-i-noor ) d...   \n",
      "2  how can I increas the speed of my internet con...   \n",
      "3   whi am I mental veri lone ? how can I solv it ?    \n",
      "4  which one dissolv in water quikli sugar , salt...   \n",
      "5  astrolog : I am a capricorn sun cap moon and c...   \n",
      "6                              should I buy tiago ?    \n",
      "7                   how can I be a good geologist ?    \n",
      "8                  when do you use シ instead of し ?    \n",
      "9  motorola ( compani ) : can I hack my charter m...   \n",
      "\n",
      "                                      question2_stem  \\\n",
      "0  what is the step by step guid to invest in sha...   \n",
      "1  what would happen if the indian govern stole t...   \n",
      "2  how can internet speed be increas by hack thro...   \n",
      "3  find the remaind when [ math ] 23^ { 24 } [ /m...   \n",
      "4           which fish would surviv in salt water ?    \n",
      "5  I 'm a tripl capricorn ( sun , moon and ascend...   \n",
      "6  what keep childern activ and far from phone an...   \n",
      "7        what should I do to be a great geologist ?    \n",
      "8    when do you use `` & '' instead of `` and '' ?    \n",
      "9  how do I hack motorola dcx3400 for free intern...   \n",
      "\n",
      "                                       question1_lem  \\\n",
      "0  What be the step by step guide to invest in sh...   \n",
      "1  What be the story of Kohinoor ( Koh-i-Noor ) D...   \n",
      "2  How can I increase the speed of my internet co...   \n",
      "3  Why be I mentally very lonely ? How can I solv...   \n",
      "4  Which one dissolve in water quikly sugar , sal...   \n",
      "5  Astrology : I be a Capricorn Sun Cap moon and ...   \n",
      "6                              Should I buy tiago ?    \n",
      "7                   How can I be a good geologist ?    \n",
      "8                  When do you use シ instead of し ?    \n",
      "9  Motorola ( company ) : Can I hack my Charter M...   \n",
      "\n",
      "                                       question2_lem  \n",
      "0  What be the step by step guide to invest in sh...  \n",
      "1  What would happen if the Indian government ste...  \n",
      "2  How can Internet speed be increase by hack thr...  \n",
      "3  Find the remainder when [ math ] 23^ { 24 } [ ...  \n",
      "4          Which fish would survive in salt water ?   \n",
      "5  I 'm a triple Capricorn ( Sun , Moon and ascen...  \n",
      "6  What keep childern active and far from phone a...  \n",
      "7        What should I do to be a great geologist ?   \n",
      "8    When do you use `` & '' instead of `` and '' ?   \n",
      "9  How do I hack Motorola DCX3400 for free intern...  \n"
     ]
    }
   ],
   "source": [
    "# Toepassen van lemmatization functie op Train data\n",
    "\n",
    "train_data_head['question1_lem'] = train_data_head['question1'].apply(lemSentence)\n",
    "train_data_head['question2_lem'] = train_data_head['question2'].apply(lemSentence)\n",
    "\n",
    "print(train_data_head)"
   ]
  },
  {
   "cell_type": "markdown",
   "metadata": {},
   "source": [
    "###### Load the dataset"
   ]
  },
  {
   "cell_type": "code",
   "execution_count": 11,
   "metadata": {},
   "outputs": [],
   "source": [
    "train_data = pd.read_csv('train_data.csv')\n",
    "training_labels = pd.read_csv('train_labels.csv')\n",
    "test_data = pd.read_csv('test_data.csv')\n",
    "\n",
    "#print(train_data)\n",
    "#print(training_labels)\n",
    "#print(test_data)"
   ]
  },
  {
   "cell_type": "markdown",
   "metadata": {},
   "source": [
    "###### Preprocessing\n",
    "    \n",
    "_The goal of both stemming and lemmatization is to reduce inflectional forms and sometimes derivationally related forms of a word to a common base form._\n",
    "\n",
    "_However, the two words differ in their flavor. Stemming usually refers to a crude heuristic process that chops off the ends of words in the hope of achieving this goal correctly most of the time, and often includes the removal of derivational affixes. Lemmatization usually refers to doing things properly with the use of a vocabulary and morphological analysis of words, normally aiming to remove inflectional endings only and to return the base or dictionary form of a word, which is known as the lemma._"
   ]
  },
  {
   "cell_type": "code",
   "execution_count": 50,
   "metadata": {},
   "outputs": [
    {
     "name": "stdout",
     "output_type": "stream",
     "text": [
      "Split test data\n",
      "========= Clean testing data question 1 ====================\n",
      "***** Regularizing *****\n",
      "***** Filtering *****\n",
      "========= Clean testing data question 1 ====================\n",
      "***** Regularizing *****\n",
      "***** Filtering *****\n",
      "========= Finish preprocessing of data ==========\n"
     ]
    }
   ],
   "source": [
    "def text_regularize(dataframe):\n",
    "    print ('***** Regularizing *****')\n",
    "    # stemming\n",
    "    \n",
    "    \n",
    "    # lematizing\n",
    "    \n",
    "    \n",
    " \n",
    "def text_filtering(dataframe):\n",
    "    print ('***** Filtering *****')\n",
    "    \n",
    "    # import regular expression\n",
    "    import re\n",
    "    \n",
    "    # remove stopwords\n",
    "    \n",
    "    # remove special symbols with regular expression\n",
    "        \n",
    "\n",
    "\n",
    "print('Split test data')\n",
    "test_q1 = test_data['question1']\n",
    "test_q2 = test_data['question2']       \n",
    "    \n",
    "print('========= Clean testing data question 1 ====================')\n",
    "# Do cleaning\n",
    "text_regularize(test_q1)\n",
    "text_filtering(test_q1)\n",
    "\n",
    "print('========= Clean testing data question 2 ====================')\n",
    "# Do cleaning\n",
    "text_regularize(test_q2)\n",
    "text_filtering(test_q2)\n",
    "\n",
    "# Save as new file\n",
    "test_q1.to_csv('test_q1.csv')\n",
    "\n",
    "print('========= Finish preprocessing of data ==========')"
   ]
  },
  {
   "cell_type": "markdown",
   "metadata": {},
   "source": [
    "######  Word2vec"
   ]
  }
 ],
 "metadata": {
  "kernelspec": {
   "display_name": "Python 3",
   "language": "python",
   "name": "python3"
  },
  "language_info": {
   "codemirror_mode": {
    "name": "ipython",
    "version": 3
   },
   "file_extension": ".py",
   "mimetype": "text/x-python",
   "name": "python",
   "nbconvert_exporter": "python",
   "pygments_lexer": "ipython3",
   "version": "3.7.0"
  }
 },
 "nbformat": 4,
 "nbformat_minor": 2
}
