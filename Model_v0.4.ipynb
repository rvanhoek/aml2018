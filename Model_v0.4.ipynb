{
 "cells": [
  {
   "cell_type": "code",
   "execution_count": 55,
   "metadata": {},
   "outputs": [],
   "source": [
    "import pandas as pd\n",
    "import numpy as np\n",
    "import nltk\n",
    "from nltk.stem import PorterStemmer\n",
    "from nltk.stem import LancasterStemmer\n",
    "from nltk.tokenize import sent_tokenize, word_tokenize\n",
    "from nltk.stem import WordNetLemmatizer\n",
    "import gensim\n",
    "from nltk.corpus import brown\n",
    "from gensim.models.doc2vec import Doc2Vec, TaggedDocument\n",
    "import re\n",
    "\n",
    "import codecs\n",
    "import csv\n",
    "from gensim.models import KeyedVectors\n",
    "from sklearn.model_selection import train_test_split\n",
    "\n",
    "# Keras\n",
    "from keras.preprocessing.text import Tokenizer\n",
    "from keras.preprocessing.sequence import pad_sequences\n",
    "from keras.layers import Dense, Input, LSTM, Embedding, Dropout, Activation\n",
    "from keras.layers.merge import concatenate\n",
    "from keras.models import Model\n",
    "from keras.layers.normalization import BatchNormalization\n",
    "from keras.callbacks import EarlyStopping, ModelCheckpoint\n",
    "from keras.models import Sequential\n",
    "import matplotlib.pyplot as plt"
   ]
  },
  {
   "cell_type": "code",
   "execution_count": 32,
   "metadata": {},
   "outputs": [
    {
     "name": "stderr",
     "output_type": "stream",
     "text": [
      "[nltk_data] Downloading package punkt to\n",
      "[nltk_data]     C:\\Users\\Renée\\AppData\\Roaming\\nltk_data...\n",
      "[nltk_data]   Package punkt is already up-to-date!\n",
      "[nltk_data] Downloading package wordnet to\n",
      "[nltk_data]     C:\\Users\\Renée\\AppData\\Roaming\\nltk_data...\n",
      "[nltk_data]   Package wordnet is already up-to-date!\n",
      "[nltk_data] Downloading package brown to\n",
      "[nltk_data]     C:\\Users\\Renée\\AppData\\Roaming\\nltk_data...\n",
      "[nltk_data]   Package brown is already up-to-date!\n"
     ]
    }
   ],
   "source": [
    "# Eenmalig downloaden\n",
    "nltk.download('punkt')\n",
    "nltk.download('wordnet')\n",
    "nltk.download('brown')\n",
    "\n",
    "# Voorkomen onterechte warnings\n",
    "pd.options.mode.chained_assignment = None"
   ]
  },
  {
   "cell_type": "code",
   "execution_count": 33,
   "metadata": {},
   "outputs": [],
   "source": [
    "# Functie voor lemmatizing\n",
    "\"\"\"\n",
    "\"Lemmatization, unlike Stemming, reduces the inflected words properly ensuring that the root word belongs to the language.\"\n",
    "Lemmatization is waarschijnlijk beter dan stemming in ons project omdat de betekenis van de woorden erg belangrijk is \n",
    "\"\"\"\n",
    "\n",
    "def cleanSentence(text):\n",
    "    \n",
    "    text = str(text).lower()\n",
    "    \n",
    "    # Clean the text\n",
    "    text = re.sub(r\"[^A-Za-z0-9^,!.\\/'+-=]\", \" \", text)\n",
    "    text = re.sub(r\"what's\", \"what is \", text)\n",
    "    text = re.sub(r\"\\'s\", \" \", text)\n",
    "    text = re.sub(r\"\\'ve\", \" have \", text)\n",
    "    text = re.sub(r\"can't\", \"cannot \", text)\n",
    "    text = re.sub(r\"n't\", \" not \", text)\n",
    "    text = re.sub(r\"i'm\", \"i am \", text)\n",
    "    text = re.sub(r\"\\'re\", \" are \", text)\n",
    "    text = re.sub(r\"\\'d\", \" would \", text)\n",
    "    text = re.sub(r\"\\'ll\", \" will \", text)\n",
    "    text = re.sub(r\",\", \" \", text)\n",
    "    text = re.sub(r\"\\.\", \" \", text)\n",
    "    text = re.sub(r\"!\", \" ! \", text)\n",
    "    text = re.sub(r\"\\/\", \" \", text)\n",
    "    text = re.sub(r\"\\^\", \" ^ \", text)\n",
    "    text = re.sub(r\"\\+\", \" + \", text)\n",
    "    text = re.sub(r\"\\-\", \" - \", text)\n",
    "    text = re.sub(r\"\\=\", \" = \", text)\n",
    "    text = re.sub(r\"'\", \" \", text)\n",
    "    text = re.sub(r\"(\\d+)(k)\", r\"\\g<1>000\", text)\n",
    "    text = re.sub(r\":\", \" : \", text)\n",
    "    text = re.sub(r\" e g \", \" eg \", text)\n",
    "    text = re.sub(r\" b g \", \" bg \", text)\n",
    "    text = re.sub(r\" u s \", \" american \", text)\n",
    "    text = re.sub(r\"\\0s\", \"0\", text)\n",
    "    text = re.sub(r\" 9 11 \", \"911\", text)\n",
    "    text = re.sub(r\"e ?-? ?mail\", \"email\", text)\n",
    "    text = re.sub(r\"j k\", \"jk\", text)\n",
    "    text = re.sub(r\"\\s{2,}\", \" \", text)\n",
    "    \n",
    "    # tokenize\n",
    "    words=text.split()\n",
    "    \n",
    "    # lemmatize\n",
    "    wordnet_lemmatizer = WordNetLemmatizer()\n",
    "    lem_sentence=[]\n",
    "    for word in words:   \n",
    "        lem_sentence.append(wordnet_lemmatizer.lemmatize(word, pos=\"v\"))\n",
    "        lem_sentence.append(\" \")\n",
    "    \n",
    "    return \"\".join(lem_sentence)"
   ]
  },
  {
   "cell_type": "code",
   "execution_count": 34,
   "metadata": {},
   "outputs": [],
   "source": [
    "# Toepassen van lemmatization functie op Train data\n",
    "\n",
    "train_data = pd.read_csv('train_data.csv')\n",
    "\n",
    "train_data['q1_clean'] = train_data['question1'].apply(cleanSentence)\n",
    "train_data['q2_clean'] = train_data['question2'].apply(cleanSentence)\n"
   ]
  },
  {
   "cell_type": "code",
   "execution_count": 35,
   "metadata": {},
   "outputs": [],
   "source": [
    "test_data = pd.read_csv('test_data.csv')\n",
    "\n",
    "test_data['q1_clean'] = test_data['question1'].apply(cleanSentence)\n",
    "test_data['q2_clean'] = test_data['question2'].apply(cleanSentence)"
   ]
  },
  {
   "cell_type": "markdown",
   "metadata": {},
   "source": [
    "#### Word index"
   ]
  },
  {
   "cell_type": "code",
   "execution_count": 36,
   "metadata": {},
   "outputs": [
    {
     "name": "stdout",
     "output_type": "stream",
     "text": [
      "77325 unique words\n"
     ]
    }
   ],
   "source": [
    "# The Tokenizer stores everything in the word_index during fit_on_texts\n",
    "tokenizer = Tokenizer(num_words=200000)\n",
    "\n",
    "# Omzitten naar list om alle woorden in de fit_on_texts functie te krijgen\n",
    "train_data_q1 = train_data['q1_clean'].tolist()\n",
    "train_data_q2 = train_data['q2_clean'].tolist()\n",
    "test_data_q1 = test_data['q1_clean'].tolist()\n",
    "test_data_q2 = test_data['q2_clean'].tolist()\n",
    "\n",
    "tokenizer.fit_on_texts(train_data_q1+\n",
    "                       train_data_q2+\n",
    "                       test_data_q1+\n",
    "                       test_data_q2)\n",
    "\n",
    "word_index = tokenizer.word_index\n",
    "print('%s unique words' % len(word_index))"
   ]
  },
  {
   "cell_type": "markdown",
   "metadata": {},
   "source": [
    "#### Embedding matrix"
   ]
  },
  {
   "cell_type": "code",
   "execution_count": 37,
   "metadata": {},
   "outputs": [
    {
     "name": "stdout",
     "output_type": "stream",
     "text": [
      "3000000 word vectors\n"
     ]
    }
   ],
   "source": [
    "# Locatie embedding file (misschien nog andere gebruiken dan deze)\n",
    "EMB_FILE = 'C:/Renee/aml2018/GoogleNews-vectors-negative300.bin'\n",
    "\n",
    "word2vec = KeyedVectors.load_word2vec_format(EMB_FILE, binary=True)\n",
    "print('%s word vectors' % len(word2vec.vocab))\n"
   ]
  },
  {
   "cell_type": "code",
   "execution_count": 38,
   "metadata": {},
   "outputs": [],
   "source": [
    "MAX_WORDS = 250000\n",
    "EMB_DIM = 300"
   ]
  },
  {
   "cell_type": "code",
   "execution_count": 39,
   "metadata": {},
   "outputs": [
    {
     "name": "stdout",
     "output_type": "stream",
     "text": [
      "Words without embedding: 37254\n"
     ]
    }
   ],
   "source": [
    "# Embedding matrix maken (300 dimension vectoren voor alle woorden uit de index)\n",
    "n_words = min(MAX_WORDS, len(word_index))+1\n",
    "\n",
    "embedding_matrix = np.zeros((n_words, EMB_DIM))\n",
    "for word, i in word_index.items():\n",
    "    if word in word2vec.vocab:\n",
    "        embedding_matrix[i] = word2vec.word_vec(word)\n",
    "        \n",
    "print('Words without embedding: %d' % np.sum(np.sum(embedding_matrix, axis=1) == 0))"
   ]
  },
  {
   "cell_type": "code",
   "execution_count": 40,
   "metadata": {},
   "outputs": [
    {
     "data": {
      "text/plain": [
       "(77326, 300)"
      ]
     },
     "execution_count": 40,
     "metadata": {},
     "output_type": "execute_result"
    }
   ],
   "source": [
    "embedding_matrix.shape"
   ]
  },
  {
   "cell_type": "markdown",
   "metadata": {},
   "source": [
    "#### Sequences"
   ]
  },
  {
   "cell_type": "code",
   "execution_count": 41,
   "metadata": {},
   "outputs": [],
   "source": [
    "LENGTH_SEQUENCE = 25"
   ]
  },
  {
   "cell_type": "code",
   "execution_count": 42,
   "metadata": {},
   "outputs": [
    {
     "name": "stdout",
     "output_type": "stream",
     "text": [
      "Shape of tensor: (404290, 25)\n"
     ]
    }
   ],
   "source": [
    "# Train data to sequences\n",
    "\n",
    "train_seq_1 = tokenizer.texts_to_sequences(train_data['q1_clean'])\n",
    "train_seq_2 = tokenizer.texts_to_sequences(train_data['q2_clean'])\n",
    "\n",
    "# Padding in sequences when sentences smaller than 25 words\n",
    "train_data_1 = pad_sequences(train_seq_1, maxlen=LENGTH_SEQUENCE)\n",
    "train_data_2 = pad_sequences(train_seq_2, maxlen=LENGTH_SEQUENCE)\n",
    "\n",
    "print('Shape of tensor:', train_data_1.shape)"
   ]
  },
  {
   "cell_type": "code",
   "execution_count": 43,
   "metadata": {},
   "outputs": [
    {
     "name": "stdout",
     "output_type": "stream",
     "text": [
      "Shape of tensor: (81126, 25)\n"
     ]
    }
   ],
   "source": [
    "# Test data to sequences\n",
    "\n",
    "test_seq_1 = tokenizer.texts_to_sequences(test_data['q1_clean'])\n",
    "test_seq_2 = tokenizer.texts_to_sequences(test_data['q2_clean'])\n",
    "\n",
    "# Padding in sequences when sentences smaller than 25 words\n",
    "test_data_1 = pad_sequences(test_seq_1, maxlen=LENGTH_SEQUENCE)\n",
    "test_data_2 = pad_sequences(test_seq_2, maxlen=LENGTH_SEQUENCE)\n",
    "\n",
    "print('Shape of tensor:', test_data_1.shape)"
   ]
  },
  {
   "cell_type": "markdown",
   "metadata": {},
   "source": [
    "#### Labels"
   ]
  },
  {
   "cell_type": "code",
   "execution_count": 44,
   "metadata": {},
   "outputs": [
    {
     "name": "stdout",
     "output_type": "stream",
     "text": [
      "Shape of label tensor: (404290,)\n"
     ]
    },
    {
     "name": "stderr",
     "output_type": "stream",
     "text": [
      "C:\\Renee\\envs\\deeplearning\\lib\\site-packages\\ipykernel_launcher.py:3: FutureWarning: Method .as_matrix will be removed in a future version. Use .values instead.\n",
      "  This is separate from the ipykernel package so we can avoid doing imports until\n"
     ]
    }
   ],
   "source": [
    "# Labels naar numpy array\n",
    "labels = train_data['is_duplicate']\n",
    "labels = labels.as_matrix()\n",
    "\n",
    "print('Shape of label tensor:', labels.shape)"
   ]
  },
  {
   "cell_type": "markdown",
   "metadata": {},
   "source": [
    "#### Validation split"
   ]
  },
  {
   "cell_type": "code",
   "execution_count": 45,
   "metadata": {},
   "outputs": [],
   "source": [
    "SPLIT = 0.1"
   ]
  },
  {
   "cell_type": "code",
   "execution_count": 46,
   "metadata": {},
   "outputs": [],
   "source": [
    "# Make a validation split of 10%\n",
    "\n",
    "# Index van train en validation set\n",
    "p = np.random.permutation(len(train_data_1))\n",
    "train_index = p[:int(len(train_data_1)*(1-SPLIT))]\n",
    "val_index = p[int(len(train_data_1)*(1-SPLIT)):]\n",
    "\n",
    "# train set\n",
    "train_1 = np.vstack((train_data_1[train_index], train_data_2[train_index]))\n",
    "train_2 = np.vstack((train_data_2[train_index], train_data_1[train_index]))\n",
    "\n",
    "# validation set\n",
    "val_1 = np.vstack((train_data_1[val_index], train_data_2[val_index]))\n",
    "val_2 = np.vstack((train_data_2[val_index], train_data_1[val_index]))\n",
    "\n",
    "# Inclusief labels\n",
    "train_lab = np.concatenate((labels[train_index], labels[train_index]))\n",
    "val_lab = np.concatenate((labels[val_index], labels[val_index]))\n",
    "\n",
    "# Weights\n",
    "val_weight = np.ones(len(val_lab))\n"
   ]
  },
  {
   "cell_type": "code",
   "execution_count": 47,
   "metadata": {},
   "outputs": [
    {
     "name": "stdout",
     "output_type": "stream",
     "text": [
      "Shape of train tensor: (727722, 25)\n",
      "Shape of validation tensor: (80858, 25)\n"
     ]
    }
   ],
   "source": [
    "print('Shape of train tensor:', train_1.shape)\n",
    "print('Shape of validation tensor:', val_1.shape)"
   ]
  },
  {
   "cell_type": "markdown",
   "metadata": {},
   "source": [
    "#### Model structure"
   ]
  },
  {
   "cell_type": "code",
   "execution_count": 48,
   "metadata": {},
   "outputs": [],
   "source": [
    "lstm_out = 200\n",
    "lstm_drop_out = 0.2\n",
    "dense_drop_out = 0.2\n",
    "n_dense = 120\n",
    "class_weight = None\n",
    "\n",
    "embedding_layer = Embedding(n_words, EMB_DIM, weights=[embedding_matrix], input_length=LENGTH_SEQUENCE, trainable=False)\n",
    "lstm_layer = LSTM(lstm_out, dropout=lstm_drop_out, recurrent_dropout=lstm_drop_out)\n",
    "\n",
    "input_1 = Input(shape=(LENGTH_SEQUENCE,), dtype='int32')\n",
    "embedded_sequences_1 = embedding_layer(input_1)\n",
    "x1 = lstm_layer(embedded_sequences_1)\n",
    "\n",
    "input_2 = Input(shape=(LENGTH_SEQUENCE,), dtype='int32')\n",
    "embedded_sequences_2 = embedding_layer(input_2)\n",
    "y1 = lstm_layer(embedded_sequences_2)\n",
    "\n",
    "added = concatenate([x1, y1])\n",
    "added = Dropout(dense_drop_out)(added)\n",
    "added = BatchNormalization()(added)\n",
    "\n",
    "added = Dense(n_dense, activation='relu')(added)\n",
    "added = Dropout(dense_drop_out)(added)\n",
    "added = BatchNormalization()(added)\n",
    "\n",
    "preds = Dense(1, activation='sigmoid')(added)\n",
    "\n"
   ]
  },
  {
   "cell_type": "code",
   "execution_count": 49,
   "metadata": {},
   "outputs": [
    {
     "name": "stdout",
     "output_type": "stream",
     "text": [
      "__________________________________________________________________________________________________\n",
      "Layer (type)                    Output Shape         Param #     Connected to                     \n",
      "==================================================================================================\n",
      "input_3 (InputLayer)            (None, 25)           0                                            \n",
      "__________________________________________________________________________________________________\n",
      "input_4 (InputLayer)            (None, 25)           0                                            \n",
      "__________________________________________________________________________________________________\n",
      "embedding_2 (Embedding)         (None, 25, 300)      23197800    input_3[0][0]                    \n",
      "                                                                 input_4[0][0]                    \n",
      "__________________________________________________________________________________________________\n",
      "lstm_2 (LSTM)                   (None, 200)          400800      embedding_2[0][0]                \n",
      "                                                                 embedding_2[1][0]                \n",
      "__________________________________________________________________________________________________\n",
      "concatenate_2 (Concatenate)     (None, 400)          0           lstm_2[0][0]                     \n",
      "                                                                 lstm_2[1][0]                     \n",
      "__________________________________________________________________________________________________\n",
      "dropout_3 (Dropout)             (None, 400)          0           concatenate_2[0][0]              \n",
      "__________________________________________________________________________________________________\n",
      "batch_normalization_3 (BatchNor (None, 400)          1600        dropout_3[0][0]                  \n",
      "__________________________________________________________________________________________________\n",
      "dense_3 (Dense)                 (None, 120)          48120       batch_normalization_3[0][0]      \n",
      "__________________________________________________________________________________________________\n",
      "dropout_4 (Dropout)             (None, 120)          0           dense_3[0][0]                    \n",
      "__________________________________________________________________________________________________\n",
      "batch_normalization_4 (BatchNor (None, 120)          480         dropout_4[0][0]                  \n",
      "__________________________________________________________________________________________________\n",
      "dense_4 (Dense)                 (None, 1)            121         batch_normalization_4[0][0]      \n",
      "==================================================================================================\n",
      "Total params: 23,648,921\n",
      "Trainable params: 450,081\n",
      "Non-trainable params: 23,198,840\n",
      "__________________________________________________________________________________________________\n"
     ]
    }
   ],
   "source": [
    "model = Model(inputs=[input_1, input_2], outputs=preds)\n",
    "model.compile(loss='binary_crossentropy', optimizer='nadam', metrics=['acc'])\n",
    "model.summary()"
   ]
  },
  {
   "cell_type": "markdown",
   "metadata": {},
   "source": [
    "#### Train model"
   ]
  },
  {
   "cell_type": "code",
   "execution_count": 50,
   "metadata": {},
   "outputs": [
    {
     "name": "stdout",
     "output_type": "stream",
     "text": [
      "Train on 727722 samples, validate on 80858 samples\n",
      "Epoch 1/8\n",
      "727722/727722 [==============================] - 1430s 2ms/step - loss: 0.5341 - acc: 0.7270 - val_loss: 0.4715 - val_acc: 0.7698\n",
      "Epoch 2/8\n",
      "727722/727722 [==============================] - 1405s 2ms/step - loss: 0.4642 - acc: 0.7711 - val_loss: 0.4231 - val_acc: 0.7966\n",
      "Epoch 3/8\n",
      "727722/727722 [==============================] - 1392s 2ms/step - loss: 0.4323 - acc: 0.7911 - val_loss: 0.3980 - val_acc: 0.8121\n",
      "Epoch 4/8\n",
      "727722/727722 [==============================] - 1391s 2ms/step - loss: 0.4090 - acc: 0.8046 - val_loss: 0.4007 - val_acc: 0.8117\n",
      "Epoch 5/8\n",
      "727722/727722 [==============================] - 1379s 2ms/step - loss: 0.3906 - acc: 0.8160 - val_loss: 0.3869 - val_acc: 0.8169\n",
      "Epoch 6/8\n",
      "727722/727722 [==============================] - 3389s 5ms/step - loss: 0.3758 - acc: 0.8245 - val_loss: 0.3708 - val_acc: 0.8280\n",
      "Epoch 7/8\n",
      "727722/727722 [==============================] - 1377s 2ms/step - loss: 0.3632 - acc: 0.8310 - val_loss: 0.3642 - val_acc: 0.8326\n",
      "Epoch 8/8\n",
      "727722/727722 [==============================] - 1385s 2ms/step - loss: 0.3522 - acc: 0.8367 - val_loss: 0.3602 - val_acc: 0.8339\n"
     ]
    },
    {
     "ename": "NameError",
     "evalue": "name 'plt' is not defined",
     "output_type": "error",
     "traceback": [
      "\u001b[1;31m---------------------------------------------------------------------------\u001b[0m",
      "\u001b[1;31mNameError\u001b[0m                                 Traceback (most recent call last)",
      "\u001b[1;32m<ipython-input-50-41d5b5a12c9b>\u001b[0m in \u001b[0;36m<module>\u001b[1;34m\u001b[0m\n\u001b[0;32m     15\u001b[0m \u001b[1;33m\u001b[0m\u001b[0m\n\u001b[0;32m     16\u001b[0m \u001b[1;31m# summarize history for accuracy\u001b[0m\u001b[1;33m\u001b[0m\u001b[1;33m\u001b[0m\u001b[1;33m\u001b[0m\u001b[0m\n\u001b[1;32m---> 17\u001b[1;33m \u001b[0mplt\u001b[0m\u001b[1;33m.\u001b[0m\u001b[0mplot\u001b[0m\u001b[1;33m(\u001b[0m\u001b[0mhistory\u001b[0m\u001b[1;33m.\u001b[0m\u001b[0mhistory\u001b[0m\u001b[1;33m[\u001b[0m\u001b[1;34m'acc'\u001b[0m\u001b[1;33m]\u001b[0m\u001b[1;33m)\u001b[0m\u001b[1;33m\u001b[0m\u001b[1;33m\u001b[0m\u001b[0m\n\u001b[0m\u001b[0;32m     18\u001b[0m \u001b[0mplt\u001b[0m\u001b[1;33m.\u001b[0m\u001b[0mplot\u001b[0m\u001b[1;33m(\u001b[0m\u001b[0mhistory\u001b[0m\u001b[1;33m.\u001b[0m\u001b[0mhistory\u001b[0m\u001b[1;33m[\u001b[0m\u001b[1;34m'val_acc'\u001b[0m\u001b[1;33m]\u001b[0m\u001b[1;33m)\u001b[0m\u001b[1;33m\u001b[0m\u001b[1;33m\u001b[0m\u001b[0m\n\u001b[0;32m     19\u001b[0m \u001b[0mplt\u001b[0m\u001b[1;33m.\u001b[0m\u001b[0mtitle\u001b[0m\u001b[1;33m(\u001b[0m\u001b[1;34m'model accuracy'\u001b[0m\u001b[1;33m)\u001b[0m\u001b[1;33m\u001b[0m\u001b[1;33m\u001b[0m\u001b[0m\n",
      "\u001b[1;31mNameError\u001b[0m: name 'plt' is not defined"
     ]
    }
   ],
   "source": [
    "name= \"model_1\"\n",
    "\n",
    "early_stopping =EarlyStopping(monitor='val_loss', patience=3)\n",
    "bst_model_path = name + '.h5'\n",
    "model_checkpoint = ModelCheckpoint(bst_model_path, save_best_only=True, save_weights_only=True)\n",
    "\n",
    "history = model.fit([train_1, train_2], train_lab, \\\n",
    "       validation_data=([val_1, val_2], val_lab, val_weight), \\\n",
    "       epochs=8, batch_size=2048, shuffle=True, \\\n",
    "       class_weight=class_weight, callbacks=[early_stopping, model_checkpoint])\n",
    "\n",
    "model.load_weights(bst_model_path)\n",
    "bst_val_score = min(history.history['val_loss'])\n",
    "\n",
    "\n"
   ]
  },
  {
   "cell_type": "code",
   "execution_count": 57,
   "metadata": {},
   "outputs": [
    {
     "data": {
      "image/png": "[encoded data removed]",
      "text/plain": [
       "<Figure size 432x288 with 1 Axes>"
      ]
     },
     "metadata": {
      "needs_background": "light"
     },
     "output_type": "display_data"
    },
    {
     "data": {
      "image/png": "[encoded data removed]",
      "text/plain": [
       "<Figure size 432x288 with 1 Axes>"
      ]
     },
     "metadata": {
      "needs_background": "light"
     },
     "output_type": "display_data"
    }
   ],
   "source": [
    "# summarize history for accuracy\n",
    "plt.plot(history.history['acc'])\n",
    "plt.plot(history.history['val_acc'])\n",
    "plt.title('model accuracy')\n",
    "plt.ylabel('accuracy')\n",
    "plt.xlabel('epoch')\n",
    "plt.legend(['train', 'validation'], loc='upper left')\n",
    "plt.show()\n",
    "\n",
    "# summarize history for loss\n",
    "plt.plot(history.history['loss'])\n",
    "plt.plot(history.history['val_loss'])\n",
    "plt.title('model loss')\n",
    "plt.ylabel('loss')\n",
    "plt.xlabel('epoch')\n",
    "plt.legend(['train', 'validation'], loc='upper left')\n",
    "plt.show()"
   ]
  },
  {
   "cell_type": "markdown",
   "metadata": {},
   "source": [
    "#### Submission"
   ]
  },
  {
   "cell_type": "code",
   "execution_count": 51,
   "metadata": {},
   "outputs": [],
   "source": [
    "test_ids = test_data['test_id']"
   ]
  },
  {
   "cell_type": "code",
   "execution_count": 52,
   "metadata": {},
   "outputs": [
    {
     "name": "stdout",
     "output_type": "stream",
     "text": [
      "81126/81126 [==============================] - 58s 711us/step\n",
      "81126/81126 [==============================] - 59s 728us/step\n"
     ]
    }
   ],
   "source": [
    "predict = model.predict([test_data_1, test_data_2], batch_size=8192, verbose=1)\n",
    "predict += model.predict([test_data_2, test_data_1], batch_size=8192, verbose=1)"
   ]
  },
  {
   "cell_type": "code",
   "execution_count": 53,
   "metadata": {},
   "outputs": [],
   "source": [
    "predict = predict/2\n",
    "predict = np.round(predict, 0)\n",
    "\n",
    "submit = pd.DataFrame({'test_id':test_ids, 'is_duplicate':predict.ravel()})\n",
    "submit.to_csv(name+'.csv', index=False)"
   ]
  }
 ],
 "metadata": {
  "kernelspec": {
   "display_name": "Python (3.6)",
   "language": "python",
   "name": "deeplearning"
  },
  "language_info": {
   "codemirror_mode": {
    "name": "ipython",
    "version": 3
   },
   "file_extension": ".py",
   "mimetype": "text/x-python",
   "name": "python",
   "nbconvert_exporter": "python",
   "pygments_lexer": "ipython3",
   "version": "3.6.7"
  }
 },
 "nbformat": 4,
 "nbformat_minor": 2
}
