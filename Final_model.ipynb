{
 "cells": [
  {
   "cell_type": "code",
   "execution_count": 3,
   "metadata": {},
   "outputs": [],
   "source": [
    "import pandas as pd\n",
    "import numpy as np\n",
    "import re\n",
    "import codecs\n",
    "import csv\n",
    "import matplotlib.pyplot as plt\n",
    "\n",
    "# NLTK\n",
    "import nltk\n",
    "from nltk.stem import WordNetLemmatizer\n",
    "\n",
    "# Gensim\n",
    "import gensim\n",
    "from gensim.models import KeyedVectors\n",
    "from gensim.models.doc2vec import Doc2Vec, TaggedDocument\n",
    "\n",
    "# Keras\n",
    "from keras.preprocessing.text import Tokenizer\n",
    "from keras.preprocessing.sequence import pad_sequences\n",
    "from keras.layers import Dense, Input, LSTM, Embedding, Dropout, Activation\n",
    "from keras.layers.normalization import BatchNormalization\n",
    "from keras.layers.merge import concatenate\n",
    "from keras.models import Model, Sequential\n",
    "from keras.callbacks import EarlyStopping, ModelCheckpoint\n",
    "\n",
    "# Overbodig?\n",
    "#from sklearn.model_selection import train_test_split\n",
    "#from nltk.stem import PorterStemmer\n",
    "#from nltk.stem import LancasterStemmer\n",
    "#from nltk.tokenize import sent_tokenize, word_tokenize\n",
    "#from nltk.corpus import brown"
   ]
  },
  {
   "cell_type": "code",
   "execution_count": 2,
   "metadata": {},
   "outputs": [],
   "source": [
    "# Eenmalig downloaden\n",
    "#nltk.download('punkt')\n",
    "#nltk.download('wordnet')\n",
    "#nltk.download('brown')\n",
    "\n",
    "# Prevent unhelpful warnings\n",
    "pd.options.mode.chained_assignment = None"
   ]
  },
  {
   "cell_type": "code",
   "execution_count": 4,
   "metadata": {},
   "outputs": [],
   "source": [
    "# Function for cleaning the sentences and lemmatizing them\n",
    "\"\"\"\n",
    "\"Lemmatization, unlike Stemming, reduces the inflected words properly ensuring that the root word belongs to the language.\"\n",
    "Lemmatization is waarschijnlijk beter dan stemming in ons project omdat de betekenis van de woorden erg belangrijk is \n",
    "\"\"\"\n",
    "\n",
    "def cleanSentence(text):\n",
    "    \n",
    "    # clean the text\n",
    "    text = str(text).lower()\n",
    "    text = re.sub(r\"[^A-Za-z0-9^,!.\\/'+-=]\", \" \", text)\n",
    "    text = re.sub(r\"what's\", \"what is \", text)\n",
    "    text = re.sub(r\"\\'s\", \" \", text)\n",
    "    text = re.sub(r\"\\'ve\", \" have \", text)\n",
    "    text = re.sub(r\"can't\", \"cannot \", text)\n",
    "    text = re.sub(r\"n't\", \" not \", text)\n",
    "    text = re.sub(r\"i'm\", \"i am \", text)\n",
    "    text = re.sub(r\"\\'re\", \" are \", text)\n",
    "    text = re.sub(r\"\\'d\", \" would \", text)\n",
    "    text = re.sub(r\"\\'ll\", \" will \", text)\n",
    "    text = re.sub(r\",\", \" \", text)\n",
    "    text = re.sub(r\"\\.\", \" \", text)\n",
    "    text = re.sub(r\"!\", \" ! \", text)\n",
    "    text = re.sub(r\"\\/\", \" \", text)\n",
    "    text = re.sub(r\"\\^\", \" ^ \", text)\n",
    "    text = re.sub(r\"\\+\", \" + \", text)\n",
    "    text = re.sub(r\"\\-\", \" - \", text)\n",
    "    text = re.sub(r\"\\=\", \" = \", text)\n",
    "    text = re.sub(r\"'\", \" \", text)\n",
    "    text = re.sub(r\"(\\d+)(k)\", r\"\\g<1>000\", text)\n",
    "    text = re.sub(r\":\", \" : \", text)\n",
    "    text = re.sub(r\" e g \", \" eg \", text)\n",
    "    text = re.sub(r\" b g \", \" bg \", text)\n",
    "    text = re.sub(r\" u s \", \" american \", text)\n",
    "    text = re.sub(r\"\\0s\", \"0\", text)\n",
    "    text = re.sub(r\" 9 11 \", \"911\", text)\n",
    "    text = re.sub(r\"e ?-? ?mail\", \"email\", text)\n",
    "    text = re.sub(r\"j k\", \"jk\", text)\n",
    "    text = re.sub(r\"\\s{2,}\", \" \", text)\n",
    "    \n",
    "    # tokenize\n",
    "    words=text.split()\n",
    "    \n",
    "    # lemmatize\n",
    "    wordnet_lemmatizer = WordNetLemmatizer()\n",
    "    lem_sentence=[]\n",
    "    for word in words:   \n",
    "        lem_sentence.append(wordnet_lemmatizer.lemmatize(word, pos=\"v\"))\n",
    "        lem_sentence.append(\" \")\n",
    "    \n",
    "    return \"\".join(lem_sentence)"
   ]
  },
  {
   "cell_type": "code",
   "execution_count": 4,
   "metadata": {},
   "outputs": [],
   "source": [
    "# Apply function to the train data\n",
    "\n",
    "train_data = pd.read_csv('train_data.csv')\n",
    "\n",
    "train_data['q1_clean'] = train_data['question1'].apply(cleanSentence)\n",
    "train_data['q2_clean'] = train_data['question2'].apply(cleanSentence)\n"
   ]
  },
  {
   "cell_type": "code",
   "execution_count": 5,
   "metadata": {},
   "outputs": [],
   "source": [
    "# Apply function to the test data\n",
    "\n",
    "test_data = pd.read_csv('test_data.csv')\n",
    "\n",
    "test_data['q1_clean'] = test_data['question1'].apply(cleanSentence)\n",
    "test_data['q2_clean'] = test_data['question2'].apply(cleanSentence)"
   ]
  },
  {
   "cell_type": "markdown",
   "metadata": {},
   "source": [
    "#### Word index"
   ]
  },
  {
   "cell_type": "code",
   "execution_count": 6,
   "metadata": {},
   "outputs": [
    {
     "name": "stdout",
     "output_type": "stream",
     "text": [
      "77325 unique words\n"
     ]
    }
   ],
   "source": [
    "# The Tokenizer stores everything in the word_index during fit_on_texts\n",
    "tokenizer = Tokenizer(num_words=200000)\n",
    "\n",
    "# Omzitten naar list om alle woorden in de fit_on_texts functie te krijgen\n",
    "train_data_q1 = train_data['q1_clean'].tolist()\n",
    "train_data_q2 = train_data['q2_clean'].tolist()\n",
    "test_data_q1 = test_data['q1_clean'].tolist()\n",
    "test_data_q2 = test_data['q2_clean'].tolist()\n",
    "\n",
    "tokenizer.fit_on_texts(train_data_q1+\n",
    "                       train_data_q2+\n",
    "                       test_data_q1+\n",
    "                       test_data_q2)\n",
    "\n",
    "word_index = tokenizer.word_index\n",
    "print('%s unique words' % len(word_index))"
   ]
  },
  {
   "cell_type": "markdown",
   "metadata": {},
   "source": [
    "#### Embedding matrix"
   ]
  },
  {
   "cell_type": "code",
   "execution_count": 7,
   "metadata": {},
   "outputs": [
    {
     "name": "stdout",
     "output_type": "stream",
     "text": [
      "3000000 word vectors\n"
     ]
    }
   ],
   "source": [
    "# Location of the embedding file\n",
    "EMB_FILE = 'C:/Renee/aml2018/GoogleNews-vectors-negative300.bin'\n",
    "\n",
    "word2vec = KeyedVectors.load_word2vec_format(EMB_FILE, binary=True)\n",
    "print('%s word vectors' % len(word2vec.vocab))\n"
   ]
  },
  {
   "cell_type": "code",
   "execution_count": 8,
   "metadata": {},
   "outputs": [],
   "source": [
    "MAX_WORDS = 250000\n",
    "EMB_DIM = 300"
   ]
  },
  {
   "cell_type": "code",
   "execution_count": 9,
   "metadata": {},
   "outputs": [
    {
     "name": "stdout",
     "output_type": "stream",
     "text": [
      "Words without embedding: 37254\n"
     ]
    }
   ],
   "source": [
    "# Embedding matrix maken (300 dimension vectoren voor alle woorden uit de index)\n",
    "n_words = min(MAX_WORDS, len(word_index))+1\n",
    "\n",
    "embedding_matrix = np.zeros((n_words, EMB_DIM))\n",
    "for word, i in word_index.items():\n",
    "    if word in word2vec.vocab:\n",
    "        embedding_matrix[i] = word2vec.word_vec(word)\n",
    "        \n",
    "print('Words without embedding: %d' % np.sum(np.sum(embedding_matrix, axis=1) == 0))"
   ]
  },
  {
   "cell_type": "code",
   "execution_count": 10,
   "metadata": {},
   "outputs": [
    {
     "data": {
      "text/plain": [
       "(77326, 300)"
      ]
     },
     "execution_count": 10,
     "metadata": {},
     "output_type": "execute_result"
    }
   ],
   "source": [
    "embedding_matrix.shape"
   ]
  },
  {
   "cell_type": "markdown",
   "metadata": {},
   "source": [
    "#### Sequences"
   ]
  },
  {
   "cell_type": "code",
   "execution_count": 11,
   "metadata": {},
   "outputs": [],
   "source": [
    "LENGTH_SEQUENCE = 35"
   ]
  },
  {
   "cell_type": "code",
   "execution_count": 12,
   "metadata": {},
   "outputs": [
    {
     "name": "stdout",
     "output_type": "stream",
     "text": [
      "Shape of tensor: (404290, 35)\n"
     ]
    }
   ],
   "source": [
    "# Train data to sequences\n",
    "\n",
    "train_seq_1 = tokenizer.texts_to_sequences(train_data['q1_clean'])\n",
    "train_seq_2 = tokenizer.texts_to_sequences(train_data['q2_clean'])\n",
    "\n",
    "# Padding in sequences when sentences smaller than 25 words\n",
    "train_data_1 = pad_sequences(train_seq_1, maxlen=LENGTH_SEQUENCE)\n",
    "train_data_2 = pad_sequences(train_seq_2, maxlen=LENGTH_SEQUENCE)\n",
    "\n",
    "print('Shape of tensor:', train_data_1.shape)"
   ]
  },
  {
   "cell_type": "code",
   "execution_count": 13,
   "metadata": {},
   "outputs": [
    {
     "name": "stdout",
     "output_type": "stream",
     "text": [
      "Shape of tensor: (81126, 35)\n"
     ]
    }
   ],
   "source": [
    "# Test data to sequences\n",
    "\n",
    "test_seq_1 = tokenizer.texts_to_sequences(test_data['q1_clean'])\n",
    "test_seq_2 = tokenizer.texts_to_sequences(test_data['q2_clean'])\n",
    "\n",
    "# Padding in sequences when sentences smaller than 25 words\n",
    "test_data_1 = pad_sequences(test_seq_1, maxlen=LENGTH_SEQUENCE)\n",
    "test_data_2 = pad_sequences(test_seq_2, maxlen=LENGTH_SEQUENCE)\n",
    "\n",
    "print('Shape of tensor:', test_data_1.shape)"
   ]
  },
  {
   "cell_type": "markdown",
   "metadata": {},
   "source": [
    "#### Labels"
   ]
  },
  {
   "cell_type": "code",
   "execution_count": 14,
   "metadata": {},
   "outputs": [
    {
     "name": "stdout",
     "output_type": "stream",
     "text": [
      "Shape of label tensor: (404290,)\n"
     ]
    },
    {
     "name": "stderr",
     "output_type": "stream",
     "text": [
      "C:\\Renee\\envs\\deeplearning\\lib\\site-packages\\ipykernel_launcher.py:3: FutureWarning: Method .as_matrix will be removed in a future version. Use .values instead.\n",
      "  This is separate from the ipykernel package so we can avoid doing imports until\n"
     ]
    }
   ],
   "source": [
    "# Labels naar numpy array\n",
    "labels = train_data['is_duplicate']\n",
    "labels = labels.as_matrix()\n",
    "\n",
    "print('Shape of label tensor:', labels.shape)"
   ]
  },
  {
   "cell_type": "markdown",
   "metadata": {},
   "source": [
    "#### Validation split"
   ]
  },
  {
   "cell_type": "code",
   "execution_count": 15,
   "metadata": {},
   "outputs": [],
   "source": [
    "SPLIT = 0.1"
   ]
  },
  {
   "cell_type": "code",
   "execution_count": 16,
   "metadata": {},
   "outputs": [],
   "source": [
    "# Make a validation split of 10%\n",
    "\n",
    "# Index van train en validation set\n",
    "p = np.random.permutation(len(train_data_1))\n",
    "train_index = p[:int(len(train_data_1)*(1-SPLIT))]\n",
    "val_index = p[int(len(train_data_1)*(1-SPLIT)):]\n",
    "\n",
    "# train set\n",
    "train_1 = np.vstack((train_data_1[train_index], train_data_2[train_index]))\n",
    "train_2 = np.vstack((train_data_2[train_index], train_data_1[train_index]))\n",
    "\n",
    "# validation set\n",
    "val_1 = np.vstack((train_data_1[val_index], train_data_2[val_index]))\n",
    "val_2 = np.vstack((train_data_2[val_index], train_data_1[val_index]))\n",
    "\n",
    "# Inclusief labels\n",
    "train_lab = np.concatenate((labels[train_index], labels[train_index]))\n",
    "val_lab = np.concatenate((labels[val_index], labels[val_index]))\n",
    "\n",
    "# Weights\n",
    "val_weight = np.ones(len(val_lab))"
   ]
  },
  {
   "cell_type": "code",
   "execution_count": 17,
   "metadata": {},
   "outputs": [
    {
     "name": "stdout",
     "output_type": "stream",
     "text": [
      "Shape of train tensor: (727722, 35)\n",
      "Shape of validation tensor: (80858, 35)\n"
     ]
    }
   ],
   "source": [
    "print('Shape of training data tensor:', train_1.shape)\n",
    "print('Shape of validation data tensor:', val_1.shape)"
   ]
  },
  {
   "cell_type": "markdown",
   "metadata": {},
   "source": [
    "#### Model structure"
   ]
  },
  {
   "cell_type": "code",
   "execution_count": null,
   "metadata": {},
   "outputs": [],
   "source": [
    "lstm_out = 200\n",
    "lstm_drop_out = 0.2\n",
    "dense_drop_out = 0.2\n",
    "dense_out = 120\n",
    "class_weight = None"
   ]
  },
  {
   "cell_type": "code",
   "execution_count": 18,
   "metadata": {},
   "outputs": [],
   "source": [
    "embedding_layer = Embedding(n_words, EMB_DIM, weights=[embedding_matrix], input_length=LENGTH_SEQUENCE, trainable=False)\n",
    "lstm_layer = LSTM(lstm_out, dropout=lstm_drop_out, recurrent_dropout=lstm_drop_out)\n",
    "\n",
    "input_1 = Input(shape=(LENGTH_SEQUENCE,), dtype='int32')\n",
    "embedded_sequences_1 = embedding_layer(input_1)\n",
    "lstm_1 = lstm_layer(embedded_sequences_1)\n",
    "\n",
    "input_2 = Input(shape=(LENGTH_SEQUENCE,), dtype='int32')\n",
    "embedded_sequences_2 = embedding_layer(input_2)\n",
    "lstm_2 = lstm_layer(embedded_sequences_2)\n",
    "\n",
    "added = concatenate([lstm_1, lstm_2])\n",
    "added = Dropout(dense_drop_out)(added)\n",
    "added = BatchNormalization()(added)\n",
    "\n",
    "added = Dense(dense_out, activation='relu')(added)\n",
    "added = Dropout(dense_drop_out)(added)\n",
    "added = BatchNormalization()(added)\n",
    "\n",
    "prediction = Dense(1, activation='sigmoid')(added)"
   ]
  },
  {
   "cell_type": "code",
   "execution_count": 19,
   "metadata": {},
   "outputs": [
    {
     "name": "stdout",
     "output_type": "stream",
     "text": [
      "__________________________________________________________________________________________________\n",
      "Layer (type)                    Output Shape         Param #     Connected to                     \n",
      "==================================================================================================\n",
      "input_1 (InputLayer)            (None, 35)           0                                            \n",
      "__________________________________________________________________________________________________\n",
      "input_2 (InputLayer)            (None, 35)           0                                            \n",
      "__________________________________________________________________________________________________\n",
      "embedding_1 (Embedding)         (None, 35, 300)      23197800    input_1[0][0]                    \n",
      "                                                                 input_2[0][0]                    \n",
      "__________________________________________________________________________________________________\n",
      "lstm_1 (LSTM)                   (None, 200)          400800      embedding_1[0][0]                \n",
      "                                                                 embedding_1[1][0]                \n",
      "__________________________________________________________________________________________________\n",
      "concatenate_1 (Concatenate)     (None, 400)          0           lstm_1[0][0]                     \n",
      "                                                                 lstm_1[1][0]                     \n",
      "__________________________________________________________________________________________________\n",
      "dropout_1 (Dropout)             (None, 400)          0           concatenate_1[0][0]              \n",
      "__________________________________________________________________________________________________\n",
      "batch_normalization_1 (BatchNor (None, 400)          1600        dropout_1[0][0]                  \n",
      "__________________________________________________________________________________________________\n",
      "dense_1 (Dense)                 (None, 120)          48120       batch_normalization_1[0][0]      \n",
      "__________________________________________________________________________________________________\n",
      "dropout_2 (Dropout)             (None, 120)          0           dense_1[0][0]                    \n",
      "__________________________________________________________________________________________________\n",
      "batch_normalization_2 (BatchNor (None, 120)          480         dropout_2[0][0]                  \n",
      "__________________________________________________________________________________________________\n",
      "dense_2 (Dense)                 (None, 1)            121         batch_normalization_2[0][0]      \n",
      "==================================================================================================\n",
      "Total params: 23,648,921\n",
      "Trainable params: 450,081\n",
      "Non-trainable params: 23,198,840\n",
      "__________________________________________________________________________________________________\n"
     ]
    }
   ],
   "source": [
    "model = Model(inputs=[input_1, input_2], outputs=prediction)\n",
    "model.compile(loss='binary_crossentropy', optimizer='nadam', metrics=['acc'])\n",
    "model.summary()"
   ]
  },
  {
   "cell_type": "markdown",
   "metadata": {},
   "source": [
    "#### Train model"
   ]
  },
  {
   "cell_type": "code",
   "execution_count": 20,
   "metadata": {},
   "outputs": [
    {
     "name": "stdout",
     "output_type": "stream",
     "text": [
      "Train on 727722 samples, validate on 80858 samples\n",
      "Epoch 1/8\n",
      "727722/727722 [==============================] - 2236s 3ms/step - loss: 0.5302 - acc: 0.7288 - val_loss: 0.4746 - val_acc: 0.7662\n",
      "Epoch 2/8\n",
      "727722/727722 [==============================] - 2058s 3ms/step - loss: 0.4602 - acc: 0.7742 - val_loss: 0.4455 - val_acc: 0.7853\n",
      "Epoch 3/8\n",
      "727722/727722 [==============================] - 2062s 3ms/step - loss: 0.4295 - acc: 0.7925 - val_loss: 0.4121 - val_acc: 0.8020\n",
      "Epoch 4/8\n",
      "727722/727722 [==============================] - 2045s 3ms/step - loss: 0.4054 - acc: 0.8066 - val_loss: 0.3975 - val_acc: 0.8112\n",
      "Epoch 5/8\n",
      "727722/727722 [==============================] - 2024s 3ms/step - loss: 0.3876 - acc: 0.8174 - val_loss: 0.3826 - val_acc: 0.8191\n",
      "Epoch 6/8\n",
      "727722/727722 [==============================] - 2041s 3ms/step - loss: 0.3727 - acc: 0.8257 - val_loss: 0.3719 - val_acc: 0.8289\n",
      "Epoch 7/8\n",
      "727722/727722 [==============================] - 2020s 3ms/step - loss: 0.3595 - acc: 0.8329 - val_loss: 0.3744 - val_acc: 0.8267\n",
      "Epoch 8/8\n",
      "727722/727722 [==============================] - 2054s 3ms/step - loss: 0.3487 - acc: 0.8388 - val_loss: 0.3674 - val_acc: 0.8307\n"
     ]
    }
   ],
   "source": [
    "name= \"model_5\"\n",
    "\n",
    "early_stopping =EarlyStopping(monitor='val_loss', patience=3)\n",
    "bst_model_path = name + '.h5'\n",
    "model_checkpoint = ModelCheckpoint(bst_model_path, save_best_only=True, save_weights_only=True)\n",
    "\n",
    "history = model.fit([train_1, train_2], train_lab, \\\n",
    "       validation_data=([val_1, val_2], val_lab, val_weight), \\\n",
    "       epochs=8, batch_size=2048, shuffle=True, \\\n",
    "       class_weight=class_weight, callbacks=[early_stopping, model_checkpoint])\n",
    "\n",
    "model.load_weights(bst_model_path)\n",
    "bst_val_score = min(history.history['val_loss'])\n"
   ]
  },
  {
   "cell_type": "markdown",
   "metadata": {},
   "source": [
    "#### Graphs to see progress"
   ]
  },
  {
   "cell_type": "code",
   "execution_count": 21,
   "metadata": {},
   "outputs": [
    {
     "data": {
      "image/png": "[encoded data removed]",
      "text/plain": [
       "<Figure size 432x288 with 1 Axes>"
      ]
     },
     "metadata": {
      "needs_background": "light"
     },
     "output_type": "display_data"
    },
    {
     "data": {
      "image/png": "[encoded data removed]",
      "text/plain": [
       "<Figure size 432x288 with 1 Axes>"
      ]
     },
     "metadata": {
      "needs_background": "light"
     },
     "output_type": "display_data"
    }
   ],
   "source": [
    "# Accuracy plot\n",
    "plt.plot(history.history['acc'])\n",
    "plt.plot(history.history['val_acc'])\n",
    "plt.title('model accuracy')\n",
    "plt.ylabel('accuracy')\n",
    "plt.xlabel('epoch')\n",
    "plt.legend(['train', 'validation'], loc='upper left')\n",
    "plt.show()\n",
    "\n",
    "# Loss plot\n",
    "plt.plot(history.history['loss'])\n",
    "plt.plot(history.history['val_loss'])\n",
    "plt.title('model loss')\n",
    "plt.ylabel('loss')\n",
    "plt.xlabel('epoch')\n",
    "plt.legend(['train', 'validation'], loc='upper left')\n",
    "plt.show()"
   ]
  },
  {
   "cell_type": "markdown",
   "metadata": {},
   "source": [
    "#### Submission"
   ]
  },
  {
   "cell_type": "code",
   "execution_count": 22,
   "metadata": {},
   "outputs": [],
   "source": [
    "test_ids = test_data['test_id']"
   ]
  },
  {
   "cell_type": "code",
   "execution_count": 23,
   "metadata": {},
   "outputs": [
    {
     "name": "stdout",
     "output_type": "stream",
     "text": [
      "81126/81126 [==============================] - 86s 1ms/step\n",
      "81126/81126 [==============================] - 89s 1ms/step\n"
     ]
    }
   ],
   "source": [
    "predict = model.predict([test_data_1, test_data_2], batch_size=8192, verbose=1)\n",
    "predict += model.predict([test_data_2, test_data_1], batch_size=8192, verbose=1)"
   ]
  },
  {
   "cell_type": "code",
   "execution_count": 24,
   "metadata": {},
   "outputs": [],
   "source": [
    "predict = predict/2\n",
    "predict = np.round(predict, 0)\n",
    "\n",
    "submit = pd.DataFrame({'test_id':test_ids, 'is_duplicate':predict.ravel()})\n",
    "submit.to_csv(name+'.csv', index=False)"
   ]
  }
 ],
 "metadata": {
  "kernelspec": {
   "display_name": "Python (3.6)",
   "language": "python",
   "name": "deeplearning"
  },
  "language_info": {
   "codemirror_mode": {
    "name": "ipython",
    "version": 3
   },
   "file_extension": ".py",
   "mimetype": "text/x-python",
   "name": "python",
   "nbconvert_exporter": "python",
   "pygments_lexer": "ipython3",
   "version": "3.6.7"
  }
 },
 "nbformat": 4,
 "nbformat_minor": 2
}
